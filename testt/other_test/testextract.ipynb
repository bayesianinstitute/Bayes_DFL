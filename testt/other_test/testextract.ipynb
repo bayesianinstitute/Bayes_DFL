{
 "cells": [
  {
   "cell_type": "code",
   "execution_count": 1,
   "metadata": {},
   "outputs": [
    {
     "name": "stdout",
     "output_type": "stream",
     "text": [
      "Used RAM: 12.54 GB\n",
      "Total RAM: 15.24 GB\n",
      "Available RAM: 2.70 GB\n"
     ]
    }
   ],
   "source": [
    "import psutil\n",
    "\n",
    "# Get RAM usage\n",
    "ram = psutil.virtual_memory()\n",
    "used_ram = ram.used\n",
    "total_ram = ram.total\n",
    "\n",
    "# Get available RAM\n",
    "available_ram = ram.available\n",
    "\n",
    "print(f\"Used RAM: {used_ram / (1024 ** 3):.2f} GB\")\n",
    "print(f\"Total RAM: {total_ram / (1024 ** 3):.2f} GB\")\n",
    "print(f\"Available RAM: {available_ram / (1024 ** 3):.2f} GB\")\n"
   ]
  },
  {
   "cell_type": "code",
   "execution_count": null,
   "metadata": {},
   "outputs": [],
   "source": []
  }
 ],
 "metadata": {
  "kernelspec": {
   "display_name": "Python 3",
   "language": "python",
   "name": "python3"
  },
  "language_info": {
   "codemirror_mode": {
    "name": "ipython",
    "version": 3
   },
   "file_extension": ".py",
   "mimetype": "text/x-python",
   "name": "python",
   "nbconvert_exporter": "python",
   "pygments_lexer": "ipython3",
   "version": "3.11.4"
  }
 },
 "nbformat": 4,
 "nbformat_minor": 2
}
