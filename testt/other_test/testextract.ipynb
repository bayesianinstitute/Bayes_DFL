{
 "cells": [
  {
   "cell_type": "code",
   "execution_count": 1,
   "metadata": {},
   "outputs": [
    {
     "name": "stdout",
     "output_type": "stream",
     "text": [
      "Used RAM: 12.54 GB\n",
      "Total RAM: 15.24 GB\n",
      "Available RAM: 2.70 GB\n"
     ]
    }
   ],
   "source": [
    "import psutil\n",
    "\n",
    "# Get RAM usage\n",
    "ram = psutil.virtual_memory()\n",
    "used_ram = ram.used\n",
    "total_ram = ram.total\n",
    "\n",
    "# Get available RAM\n",
    "available_ram = ram.available\n",
    "\n",
    "print(f\"Used RAM: {used_ram / (1024 ** 3):.2f} GB\")\n",
    "print(f\"Total RAM: {total_ram / (1024 ** 3):.2f} GB\")\n",
    "print(f\"Available RAM: {available_ram / (1024 ** 3):.2f} GB\")\n"
   ]
  },
  {
   "cell_type": "code",
   "execution_count": 1,
   "metadata": {},
   "outputs": [
    {
     "name": "stdout",
     "output_type": "stream",
     "text": [
      "['QmSYSi2nnYCvAN6wCQ88oQ7ojm7xrBy6DjmnKJL2Rty8DF', 'QmNe3kkMMUuGHNb9dovtupAztvBqmVfQoHpp9C6yria46Q', 'QmPiRbnfHxne4opfJtPmBcP98r3vUi3R7RptnjvTVomqNC', 'QmcCeHq8GGe8r3Qtoi8C2FJhVeWuRqfUYjK7x6pxRP3AwF', 'QmdiCS8L5TGdYrvZioneSSi4zPJeQhaV37HKp7pCGiEXq9']\n"
     ]
    }
   ],
   "source": [
    "data = {\n",
    "    'USA_Client_1': 'QmSYSi2nnYCvAN6wCQ88oQ7ojm7xrBy6DjmnKJL2Rty8DF',\n",
    "    'USA_Client_2': 'QmNe3kkMMUuGHNb9dovtupAztvBqmVfQoHpp9C6yria46Q',\n",
    "    'USA_Client_3': 'QmPiRbnfHxne4opfJtPmBcP98r3vUi3R7RptnjvTVomqNC',\n",
    "    'USA_Client_4': 'QmcCeHq8GGe8r3Qtoi8C2FJhVeWuRqfUYjK7x6pxRP3AwF',\n",
    "    'USA_Client_5': 'QmdiCS8L5TGdYrvZioneSSi4zPJeQhaV37HKp7pCGiEXq9'\n",
    "}\n",
    "\n",
    "# Extract all hashes\n",
    "hashes = list(data.values())\n",
    "\n",
    "# Print the list of hashes\n",
    "print(hashes)\n"
   ]
  },
  {
   "cell_type": "code",
   "execution_count": 2,
   "metadata": {},
   "outputs": [
    {
     "name": "stdout",
     "output_type": "stream",
     "text": [
      "['QmRdj9MiRduK4NDoDpEtGZmJBm3Bb8F85vbT5FLS5VmY7q', 'QmRLEfaJTrhmhSAiuawz56k18iUxj1tsLzmLMpbwTiR6jU', 'QmR3gbdGdVPAabxbXU9gtA8JtiSnne98NACX4uxg3mxD1g']\n"
     ]
    }
   ],
   "source": [
    "client_hash_mapping ={'USA_Client_1': 'QmRdj9MiRduK4NDoDpEtGZmJBm3Bb8F85vbT5FLS5VmY7q', 'USA_Client_2': 'QmRLEfaJTrhmhSAiuawz56k18iUxj1tsLzmLMpbwTiR6jU', 'USA_Client_3': 'QmR3gbdGdVPAabxbXU9gtA8JtiSnne98NACX4uxg3mxD1g'} \n",
    "\n",
    "# Extract all hashes\n",
    "hashes = list(client_hash_mapping.values())\n",
    "\n",
    "# Print the list of hashes\n",
    "print(hashes)\n"
   ]
  },
  {
   "cell_type": "code",
   "execution_count": 4,
   "metadata": {},
   "outputs": [
    {
     "name": "stdout",
     "output_type": "stream",
     "text": [
      "The value for key key1 is ther\n",
      "The value for key key2 is None\n",
      "The value for key key3 is ther\n",
      "The value for key key4 is None\n"
     ]
    }
   ],
   "source": [
    "my_dict = {'key1': 42, 'key2': None, 'key3': 'Hello', 'key4': None}\n",
    "i=1\n",
    "while True:\n",
    "    i=i+1\n",
    "    for key, value in my_dict.items():\n",
    "        if value is None:\n",
    "            print(f'The value for key {key} is None')\n",
    "        else :\n",
    "            print(f'The value for key {key} is ther')\n",
    "    my_dict['key2']=3\n",
    "    if i==3:\n",
    "        break\n",
    "\n"
   ]
  },
  {
   "cell_type": "code",
   "execution_count": null,
   "metadata": {},
   "outputs": [],
   "source": []
  }
 ],
 "metadata": {
  "kernelspec": {
   "display_name": "Python 3",
   "language": "python",
   "name": "python3"
  },
  "language_info": {
   "codemirror_mode": {
    "name": "ipython",
    "version": 3
   },
   "file_extension": ".py",
   "mimetype": "text/x-python",
   "name": "python",
   "nbconvert_exporter": "python",
   "pygments_lexer": "ipython3",
   "version": "3.11.4"
  }
 },
 "nbformat": 4,
 "nbformat_minor": 2
}
